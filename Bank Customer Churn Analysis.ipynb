{
 "cells": [
  {
   "cell_type": "markdown",
   "id": "fce41eed-cf7e-4cd9-8b47-7a33f586430e",
   "metadata": {},
   "source": [
    "# Bank Customer Churn Analysis\n",
    "### Data Analysis Final Project – July 2025\n",
    "\n",
    "**Objective**: Analyze customer demographic and financial data to understand customer churn and recommend strategies to improve retention.\n"
   ]
  },
  {
   "cell_type": "code",
   "execution_count": 1,
   "id": "28bc84fa-0e34-4241-8eab-0fbeaa096436",
   "metadata": {},
   "outputs": [],
   "source": [
    "import pandas as pd\n",
    "import seaborn as sns\n",
    "import matplotlib.pyplot as plt\n",
    "import numpy as np"
   ]
  },
  {
   "cell_type": "markdown",
   "id": "bde6526f-85eb-49c6-95c0-c72a22358b7d",
   "metadata": {},
   "source": [
    "## Load Data"
   ]
  },
  {
   "cell_type": "code",
   "execution_count": 3,
   "id": "77a7464e-066e-43d1-aba1-1ccfa6418ea1",
   "metadata": {},
   "outputs": [],
   "source": [
    "file_path = 'Bank_Churn_Messy.xlsx'\n",
    "customer_df = pd.read_excel(file_path, sheet_name='Customer_Info')\n",
    "account_df = pd.read_excel(file_path, sheet_name='Account_Info')"
   ]
  },
  {
   "cell_type": "code",
   "execution_count": 4,
   "id": "7c321554-7956-4617-a16e-45d7083fc4f3",
   "metadata": {},
   "outputs": [
    {
     "data": {
      "text/html": [
       "<div>\n",
       "<style scoped>\n",
       "    .dataframe tbody tr th:only-of-type {\n",
       "        vertical-align: middle;\n",
       "    }\n",
       "\n",
       "    .dataframe tbody tr th {\n",
       "        vertical-align: top;\n",
       "    }\n",
       "\n",
       "    .dataframe thead th {\n",
       "        text-align: right;\n",
       "    }\n",
       "</style>\n",
       "<table border=\"1\" class=\"dataframe\">\n",
       "  <thead>\n",
       "    <tr style=\"text-align: right;\">\n",
       "      <th></th>\n",
       "      <th>CustomerId</th>\n",
       "      <th>Surname</th>\n",
       "      <th>CreditScore</th>\n",
       "      <th>Geography</th>\n",
       "      <th>Gender</th>\n",
       "      <th>Age</th>\n",
       "      <th>Tenure</th>\n",
       "      <th>EstimatedSalary</th>\n",
       "    </tr>\n",
       "  </thead>\n",
       "  <tbody>\n",
       "    <tr>\n",
       "      <th>0</th>\n",
       "      <td>15634602</td>\n",
       "      <td>Hargrave</td>\n",
       "      <td>619</td>\n",
       "      <td>FRA</td>\n",
       "      <td>Female</td>\n",
       "      <td>42.0</td>\n",
       "      <td>2</td>\n",
       "      <td>€101348.88</td>\n",
       "    </tr>\n",
       "    <tr>\n",
       "      <th>1</th>\n",
       "      <td>15647311</td>\n",
       "      <td>Hill</td>\n",
       "      <td>608</td>\n",
       "      <td>Spain</td>\n",
       "      <td>Female</td>\n",
       "      <td>41.0</td>\n",
       "      <td>1</td>\n",
       "      <td>€112542.58</td>\n",
       "    </tr>\n",
       "    <tr>\n",
       "      <th>2</th>\n",
       "      <td>15619304</td>\n",
       "      <td>Onio</td>\n",
       "      <td>502</td>\n",
       "      <td>French</td>\n",
       "      <td>Female</td>\n",
       "      <td>42.0</td>\n",
       "      <td>8</td>\n",
       "      <td>€113931.57</td>\n",
       "    </tr>\n",
       "    <tr>\n",
       "      <th>3</th>\n",
       "      <td>15701354</td>\n",
       "      <td>Boni</td>\n",
       "      <td>699</td>\n",
       "      <td>FRA</td>\n",
       "      <td>Female</td>\n",
       "      <td>39.0</td>\n",
       "      <td>1</td>\n",
       "      <td>€93826.63</td>\n",
       "    </tr>\n",
       "    <tr>\n",
       "      <th>4</th>\n",
       "      <td>15737888</td>\n",
       "      <td>Mitchell</td>\n",
       "      <td>850</td>\n",
       "      <td>Spain</td>\n",
       "      <td>Female</td>\n",
       "      <td>43.0</td>\n",
       "      <td>2</td>\n",
       "      <td>€79084.1</td>\n",
       "    </tr>\n",
       "  </tbody>\n",
       "</table>\n",
       "</div>"
      ],
      "text/plain": [
       "   CustomerId   Surname  CreditScore Geography  Gender   Age  Tenure  \\\n",
       "0    15634602  Hargrave          619       FRA  Female  42.0       2   \n",
       "1    15647311      Hill          608     Spain  Female  41.0       1   \n",
       "2    15619304      Onio          502    French  Female  42.0       8   \n",
       "3    15701354      Boni          699       FRA  Female  39.0       1   \n",
       "4    15737888  Mitchell          850     Spain  Female  43.0       2   \n",
       "\n",
       "  EstimatedSalary  \n",
       "0      €101348.88  \n",
       "1      €112542.58  \n",
       "2      €113931.57  \n",
       "3       €93826.63  \n",
       "4        €79084.1  "
      ]
     },
     "execution_count": 4,
     "metadata": {},
     "output_type": "execute_result"
    }
   ],
   "source": [
    "customer_df.head()"
   ]
  },
  {
   "cell_type": "code",
   "execution_count": 5,
   "id": "61a5ce76-1c85-42b2-aee6-871d0c21711f",
   "metadata": {},
   "outputs": [
    {
     "data": {
      "text/html": [
       "<div>\n",
       "<style scoped>\n",
       "    .dataframe tbody tr th:only-of-type {\n",
       "        vertical-align: middle;\n",
       "    }\n",
       "\n",
       "    .dataframe tbody tr th {\n",
       "        vertical-align: top;\n",
       "    }\n",
       "\n",
       "    .dataframe thead th {\n",
       "        text-align: right;\n",
       "    }\n",
       "</style>\n",
       "<table border=\"1\" class=\"dataframe\">\n",
       "  <thead>\n",
       "    <tr style=\"text-align: right;\">\n",
       "      <th></th>\n",
       "      <th>CustomerId</th>\n",
       "      <th>Balance</th>\n",
       "      <th>NumOfProducts</th>\n",
       "      <th>HasCrCard</th>\n",
       "      <th>Tenure</th>\n",
       "      <th>IsActiveMember</th>\n",
       "      <th>Exited</th>\n",
       "    </tr>\n",
       "  </thead>\n",
       "  <tbody>\n",
       "    <tr>\n",
       "      <th>0</th>\n",
       "      <td>15634602</td>\n",
       "      <td>€0.0</td>\n",
       "      <td>1</td>\n",
       "      <td>Yes</td>\n",
       "      <td>2</td>\n",
       "      <td>Yes</td>\n",
       "      <td>1</td>\n",
       "    </tr>\n",
       "    <tr>\n",
       "      <th>1</th>\n",
       "      <td>15634602</td>\n",
       "      <td>€0.0</td>\n",
       "      <td>1</td>\n",
       "      <td>Yes</td>\n",
       "      <td>2</td>\n",
       "      <td>Yes</td>\n",
       "      <td>1</td>\n",
       "    </tr>\n",
       "    <tr>\n",
       "      <th>2</th>\n",
       "      <td>15647311</td>\n",
       "      <td>€83807.86</td>\n",
       "      <td>1</td>\n",
       "      <td>Yes</td>\n",
       "      <td>1</td>\n",
       "      <td>Yes</td>\n",
       "      <td>0</td>\n",
       "    </tr>\n",
       "    <tr>\n",
       "      <th>3</th>\n",
       "      <td>15619304</td>\n",
       "      <td>€159660.8</td>\n",
       "      <td>3</td>\n",
       "      <td>No</td>\n",
       "      <td>8</td>\n",
       "      <td>No</td>\n",
       "      <td>1</td>\n",
       "    </tr>\n",
       "    <tr>\n",
       "      <th>4</th>\n",
       "      <td>15701354</td>\n",
       "      <td>€0.0</td>\n",
       "      <td>2</td>\n",
       "      <td>No</td>\n",
       "      <td>1</td>\n",
       "      <td>No</td>\n",
       "      <td>0</td>\n",
       "    </tr>\n",
       "  </tbody>\n",
       "</table>\n",
       "</div>"
      ],
      "text/plain": [
       "   CustomerId    Balance  NumOfProducts HasCrCard  Tenure IsActiveMember  \\\n",
       "0    15634602       €0.0              1       Yes       2            Yes   \n",
       "1    15634602       €0.0              1       Yes       2            Yes   \n",
       "2    15647311  €83807.86              1       Yes       1            Yes   \n",
       "3    15619304  €159660.8              3        No       8             No   \n",
       "4    15701354       €0.0              2        No       1             No   \n",
       "\n",
       "   Exited  \n",
       "0       1  \n",
       "1       1  \n",
       "2       0  \n",
       "3       1  \n",
       "4       0  "
      ]
     },
     "execution_count": 5,
     "metadata": {},
     "output_type": "execute_result"
    }
   ],
   "source": [
    "account_df.head()"
   ]
  },
  {
   "cell_type": "code",
   "execution_count": 13,
   "id": "a5cbf645-c413-4925-bfe1-a0aa7240d889",
   "metadata": {},
   "outputs": [
    {
     "name": "stdout",
     "output_type": "stream",
     "text": [
      "<class 'pandas.core.frame.DataFrame'>\n",
      "Index: 9997 entries, 0 to 9999\n",
      "Data columns (total 8 columns):\n",
      " #   Column           Non-Null Count  Dtype  \n",
      "---  ------           --------------  -----  \n",
      " 0   CustomerId       9997 non-null   int64  \n",
      " 1   Surname          9997 non-null   object \n",
      " 2   CreditScore      9997 non-null   int64  \n",
      " 3   Geography        9997 non-null   object \n",
      " 4   Gender           9997 non-null   object \n",
      " 5   Age              9997 non-null   float64\n",
      " 6   Tenure           9997 non-null   int64  \n",
      " 7   EstimatedSalary  9997 non-null   object \n",
      "dtypes: float64(1), int64(3), object(4)\n",
      "memory usage: 702.9+ KB\n"
     ]
    }
   ],
   "source": [
    "customer_df.info()"
   ]
  },
  {
   "cell_type": "code",
   "execution_count": 14,
   "id": "1db6acdd-b864-45ec-97d5-064d1b1dbfd9",
   "metadata": {},
   "outputs": [
    {
     "name": "stdout",
     "output_type": "stream",
     "text": [
      "<class 'pandas.core.frame.DataFrame'>\n",
      "RangeIndex: 10002 entries, 0 to 10001\n",
      "Data columns (total 7 columns):\n",
      " #   Column          Non-Null Count  Dtype \n",
      "---  ------          --------------  ----- \n",
      " 0   CustomerId      10002 non-null  int64 \n",
      " 1   Balance         10002 non-null  object\n",
      " 2   NumOfProducts   10002 non-null  int64 \n",
      " 3   HasCrCard       10002 non-null  object\n",
      " 4   Tenure          10002 non-null  int64 \n",
      " 5   IsActiveMember  10002 non-null  object\n",
      " 6   Exited          10002 non-null  int64 \n",
      "dtypes: int64(4), object(3)\n",
      "memory usage: 547.1+ KB\n"
     ]
    }
   ],
   "source": [
    "account_df.info()"
   ]
  },
  {
   "cell_type": "code",
   "execution_count": 15,
   "id": "668ac0a2-fc49-40b8-a43b-914fb643c4a8",
   "metadata": {},
   "outputs": [
    {
     "data": {
      "text/plain": [
       "<bound method DataFrame.info of       CustomerId    Surname  CreditScore Geography  Gender   Age  Tenure  \\\n",
       "0       15634602   Hargrave          619       FRA  Female  42.0       2   \n",
       "1       15647311       Hill          608     Spain  Female  41.0       1   \n",
       "2       15619304       Onio          502    French  Female  42.0       8   \n",
       "3       15701354       Boni          699       FRA  Female  39.0       1   \n",
       "4       15737888   Mitchell          850     Spain  Female  43.0       2   \n",
       "...          ...        ...          ...       ...     ...   ...     ...   \n",
       "9995    15606229   Obijiaku          771    France    Male  39.0       5   \n",
       "9996    15569892  Johnstone          516    French    Male  35.0      10   \n",
       "9997    15584532        Liu          709       FRA  Female  36.0       7   \n",
       "9998    15682355  Sabbatini          772   Germany    Male  42.0       3   \n",
       "9999    15628319     Walker          792    French  Female  28.0       4   \n",
       "\n",
       "     EstimatedSalary  \n",
       "0         €101348.88  \n",
       "1         €112542.58  \n",
       "2         €113931.57  \n",
       "3          €93826.63  \n",
       "4           €79084.1  \n",
       "...              ...  \n",
       "9995       €96270.64  \n",
       "9996      €101699.77  \n",
       "9997       €42085.58  \n",
       "9998       €92888.52  \n",
       "9999       €38190.78  \n",
       "\n",
       "[9997 rows x 8 columns]>"
      ]
     },
     "execution_count": 15,
     "metadata": {},
     "output_type": "execute_result"
    }
   ],
   "source": [
    "customer_df.info"
   ]
  },
  {
   "cell_type": "code",
   "execution_count": 16,
   "id": "92c71414-c495-41b1-a475-fba1664f6998",
   "metadata": {},
   "outputs": [
    {
     "data": {
      "text/plain": [
       "<bound method DataFrame.info of        CustomerId     Balance  NumOfProducts HasCrCard  Tenure IsActiveMember  \\\n",
       "0        15634602        €0.0              1       Yes       2            Yes   \n",
       "1        15634602        €0.0              1       Yes       2            Yes   \n",
       "2        15647311   €83807.86              1       Yes       1            Yes   \n",
       "3        15619304   €159660.8              3        No       8             No   \n",
       "4        15701354        €0.0              2        No       1             No   \n",
       "...           ...         ...            ...       ...     ...            ...   \n",
       "9997     15569892   €57369.61              1       Yes      10            Yes   \n",
       "9998     15584532        €0.0              1       Yes       7            Yes   \n",
       "9999     15682355   €75075.31              2        No       3             No   \n",
       "10000    15628319  €130142.79              1        No       4             No   \n",
       "10001    15628319  €130142.79              1        No       4             No   \n",
       "\n",
       "       Exited  \n",
       "0           1  \n",
       "1           1  \n",
       "2           0  \n",
       "3           1  \n",
       "4           0  \n",
       "...       ...  \n",
       "9997        0  \n",
       "9998        1  \n",
       "9999        1  \n",
       "10000       0  \n",
       "10001       0  \n",
       "\n",
       "[10002 rows x 7 columns]>"
      ]
     },
     "execution_count": 16,
     "metadata": {},
     "output_type": "execute_result"
    }
   ],
   "source": [
    "account_df.info"
   ]
  },
  {
   "cell_type": "markdown",
   "id": "14e16b01-df07-41e1-96ff-615b8ac988b8",
   "metadata": {},
   "source": [
    "## Clean Data"
   ]
  },
  {
   "cell_type": "code",
   "execution_count": 6,
   "id": "3e752335-d382-48ec-a95b-9640d9c93319",
   "metadata": {},
   "outputs": [],
   "source": [
    "customer_df.columns = customer_df.columns.str.strip().str.replace(\" \", \"_\")"
   ]
  },
  {
   "cell_type": "code",
   "execution_count": 7,
   "id": "6974738f-dccd-46fb-8975-cf1d77181775",
   "metadata": {},
   "outputs": [],
   "source": [
    "account_df.columns = account_df.columns.str.strip().str.replace(\" \", \"_\")"
   ]
  },
  {
   "cell_type": "code",
   "execution_count": 8,
   "id": "f01e6843-7268-4fe0-8413-3830bbf1d365",
   "metadata": {},
   "outputs": [
    {
     "data": {
      "text/plain": [
       "CustomerId         0\n",
       "Surname            3\n",
       "CreditScore        0\n",
       "Geography          0\n",
       "Gender             0\n",
       "Age                3\n",
       "Tenure             0\n",
       "EstimatedSalary    0\n",
       "dtype: int64"
      ]
     },
     "execution_count": 8,
     "metadata": {},
     "output_type": "execute_result"
    }
   ],
   "source": [
    "customer_df.isnull().sum()"
   ]
  },
  {
   "cell_type": "code",
   "execution_count": 9,
   "id": "ee334f35-4813-40f9-b2dc-2d5b727fc69b",
   "metadata": {},
   "outputs": [
    {
     "data": {
      "text/plain": [
       "CustomerId        0\n",
       "Balance           0\n",
       "NumOfProducts     0\n",
       "HasCrCard         0\n",
       "Tenure            0\n",
       "IsActiveMember    0\n",
       "Exited            0\n",
       "dtype: int64"
      ]
     },
     "execution_count": 9,
     "metadata": {},
     "output_type": "execute_result"
    }
   ],
   "source": [
    "account_df.isnull().sum()"
   ]
  },
  {
   "cell_type": "code",
   "execution_count": 10,
   "id": "bec3c9e8-7405-4d3d-827a-51267dfde674",
   "metadata": {},
   "outputs": [],
   "source": [
    "customer_df.dropna(inplace=True)"
   ]
  },
  {
   "cell_type": "code",
   "execution_count": 11,
   "id": "da51fb6a-feae-4e04-a15d-221bc608a370",
   "metadata": {},
   "outputs": [],
   "source": [
    "account_df.dropna(inplace=True)"
   ]
  },
  {
   "cell_type": "code",
   "execution_count": 17,
   "id": "bbdece6d-2708-4066-bdcd-8c241adaa450",
   "metadata": {},
   "outputs": [],
   "source": [
    "customer_df.drop_duplicates(inplace=True)"
   ]
  },
  {
   "cell_type": "code",
   "execution_count": 18,
   "id": "c11af058-2634-4059-ada3-006fa36e6f1b",
   "metadata": {},
   "outputs": [],
   "source": [
    "account_df.drop_duplicates(inplace=True)"
   ]
  },
  {
   "cell_type": "markdown",
   "id": "e15c9b92-79b9-45f5-8010-7fc6686ea784",
   "metadata": {},
   "source": [
    "## Merge Data"
   ]
  },
  {
   "cell_type": "code",
   "execution_count": 20,
   "id": "73aa0978-bb73-4957-85c0-55cf85caf155",
   "metadata": {},
   "outputs": [],
   "source": [
    "#'CustomerId' is the common key\n",
    "merged_df = pd.merge(customer_df, account_df, on='CustomerId', how='inner')"
   ]
  },
  {
   "cell_type": "code",
   "execution_count": 21,
   "id": "0355bc98-adf9-4462-9fa5-b0dbd7e1d2df",
   "metadata": {},
   "outputs": [
    {
     "data": {
      "text/html": [
       "<div>\n",
       "<style scoped>\n",
       "    .dataframe tbody tr th:only-of-type {\n",
       "        vertical-align: middle;\n",
       "    }\n",
       "\n",
       "    .dataframe tbody tr th {\n",
       "        vertical-align: top;\n",
       "    }\n",
       "\n",
       "    .dataframe thead th {\n",
       "        text-align: right;\n",
       "    }\n",
       "</style>\n",
       "<table border=\"1\" class=\"dataframe\">\n",
       "  <thead>\n",
       "    <tr style=\"text-align: right;\">\n",
       "      <th></th>\n",
       "      <th>CustomerId</th>\n",
       "      <th>Surname</th>\n",
       "      <th>CreditScore</th>\n",
       "      <th>Geography</th>\n",
       "      <th>Gender</th>\n",
       "      <th>Age</th>\n",
       "      <th>Tenure_x</th>\n",
       "      <th>EstimatedSalary</th>\n",
       "      <th>Balance</th>\n",
       "      <th>NumOfProducts</th>\n",
       "      <th>HasCrCard</th>\n",
       "      <th>Tenure_y</th>\n",
       "      <th>IsActiveMember</th>\n",
       "      <th>Exited</th>\n",
       "    </tr>\n",
       "  </thead>\n",
       "  <tbody>\n",
       "    <tr>\n",
       "      <th>0</th>\n",
       "      <td>15634602</td>\n",
       "      <td>Hargrave</td>\n",
       "      <td>619</td>\n",
       "      <td>FRA</td>\n",
       "      <td>Female</td>\n",
       "      <td>42.0</td>\n",
       "      <td>2</td>\n",
       "      <td>€101348.88</td>\n",
       "      <td>€0.0</td>\n",
       "      <td>1</td>\n",
       "      <td>Yes</td>\n",
       "      <td>2</td>\n",
       "      <td>Yes</td>\n",
       "      <td>1</td>\n",
       "    </tr>\n",
       "    <tr>\n",
       "      <th>1</th>\n",
       "      <td>15647311</td>\n",
       "      <td>Hill</td>\n",
       "      <td>608</td>\n",
       "      <td>Spain</td>\n",
       "      <td>Female</td>\n",
       "      <td>41.0</td>\n",
       "      <td>1</td>\n",
       "      <td>€112542.58</td>\n",
       "      <td>€83807.86</td>\n",
       "      <td>1</td>\n",
       "      <td>Yes</td>\n",
       "      <td>1</td>\n",
       "      <td>Yes</td>\n",
       "      <td>0</td>\n",
       "    </tr>\n",
       "    <tr>\n",
       "      <th>2</th>\n",
       "      <td>15619304</td>\n",
       "      <td>Onio</td>\n",
       "      <td>502</td>\n",
       "      <td>French</td>\n",
       "      <td>Female</td>\n",
       "      <td>42.0</td>\n",
       "      <td>8</td>\n",
       "      <td>€113931.57</td>\n",
       "      <td>€159660.8</td>\n",
       "      <td>3</td>\n",
       "      <td>No</td>\n",
       "      <td>8</td>\n",
       "      <td>No</td>\n",
       "      <td>1</td>\n",
       "    </tr>\n",
       "    <tr>\n",
       "      <th>3</th>\n",
       "      <td>15701354</td>\n",
       "      <td>Boni</td>\n",
       "      <td>699</td>\n",
       "      <td>FRA</td>\n",
       "      <td>Female</td>\n",
       "      <td>39.0</td>\n",
       "      <td>1</td>\n",
       "      <td>€93826.63</td>\n",
       "      <td>€0.0</td>\n",
       "      <td>2</td>\n",
       "      <td>No</td>\n",
       "      <td>1</td>\n",
       "      <td>No</td>\n",
       "      <td>0</td>\n",
       "    </tr>\n",
       "    <tr>\n",
       "      <th>4</th>\n",
       "      <td>15737888</td>\n",
       "      <td>Mitchell</td>\n",
       "      <td>850</td>\n",
       "      <td>Spain</td>\n",
       "      <td>Female</td>\n",
       "      <td>43.0</td>\n",
       "      <td>2</td>\n",
       "      <td>€79084.1</td>\n",
       "      <td>€125510.82</td>\n",
       "      <td>1</td>\n",
       "      <td>Yes</td>\n",
       "      <td>2</td>\n",
       "      <td>Yes</td>\n",
       "      <td>0</td>\n",
       "    </tr>\n",
       "  </tbody>\n",
       "</table>\n",
       "</div>"
      ],
      "text/plain": [
       "   CustomerId   Surname  CreditScore Geography  Gender   Age  Tenure_x  \\\n",
       "0    15634602  Hargrave          619       FRA  Female  42.0         2   \n",
       "1    15647311      Hill          608     Spain  Female  41.0         1   \n",
       "2    15619304      Onio          502    French  Female  42.0         8   \n",
       "3    15701354      Boni          699       FRA  Female  39.0         1   \n",
       "4    15737888  Mitchell          850     Spain  Female  43.0         2   \n",
       "\n",
       "  EstimatedSalary     Balance  NumOfProducts HasCrCard  Tenure_y  \\\n",
       "0      €101348.88        €0.0              1       Yes         2   \n",
       "1      €112542.58   €83807.86              1       Yes         1   \n",
       "2      €113931.57   €159660.8              3        No         8   \n",
       "3       €93826.63        €0.0              2        No         1   \n",
       "4        €79084.1  €125510.82              1       Yes         2   \n",
       "\n",
       "  IsActiveMember  Exited  \n",
       "0            Yes       1  \n",
       "1            Yes       0  \n",
       "2             No       1  \n",
       "3             No       0  \n",
       "4            Yes       0  "
      ]
     },
     "execution_count": 21,
     "metadata": {},
     "output_type": "execute_result"
    }
   ],
   "source": [
    "merged_df.head()"
   ]
  },
  {
   "cell_type": "markdown",
   "id": "9a627dcd-c973-423e-af05-7d54a7ba81af",
   "metadata": {},
   "source": [
    "## Churn Distribution "
   ]
  },
  {
   "cell_type": "code",
   "execution_count": 22,
   "id": "ef929e39-76e5-4957-b839-8af304d445a6",
   "metadata": {},
   "outputs": [
    {
     "data": {
      "image/png": "[encoded data removed]",
      "text/plain": [
       "<Figure size 640x480 with 1 Axes>"
      ]
     },
     "metadata": {},
     "output_type": "display_data"
    }
   ],
   "source": [
    "sns.countplot(x='Exited', data=merged_df)\n",
    "plt.title('Customer Churn Distribution')\n",
    "plt.xlabel('Exited (1 = Churned)')\n",
    "plt.ylabel('Count')\n",
    "plt.show()"
   ]
  },
  {
   "cell_type": "code",
   "execution_count": 26,
   "id": "7faaf8a8-022d-4823-b016-cee744900b8f",
   "metadata": {},
   "outputs": [
    {
     "data": {
      "text/plain": [
       "<Figure size 640x480 with 0 Axes>"
      ]
     },
     "metadata": {},
     "output_type": "display_data"
    }
   ],
   "source": [
    "plt.savefig('Customer Churn Distribution.png')"
   ]
  },
  {
   "cell_type": "markdown",
   "id": "e8253b9e-32f9-4c9e-b584-846303130034",
   "metadata": {},
   "source": [
    "## Churn by Gender"
   ]
  },
  {
   "cell_type": "code",
   "execution_count": 23,
   "id": "b73c5b36-d2e5-441c-94d7-95ef2023b970",
   "metadata": {},
   "outputs": [
    {
     "data": {
      "image/png": "[encoded data removed]",
      "text/plain": [
       "<Figure size 640x480 with 1 Axes>"
      ]
     },
     "metadata": {},
     "output_type": "display_data"
    }
   ],
   "source": [
    "sns.countplot(x='Gender', hue='Exited', data=merged_df)\n",
    "plt.title('Churn by Gender')\n",
    "plt.show()"
   ]
  },
  {
   "cell_type": "code",
   "execution_count": 27,
   "id": "9c21c4b5-c5b6-4919-8ce3-f5013dfd262a",
   "metadata": {},
   "outputs": [
    {
     "data": {
      "text/plain": [
       "<Figure size 640x480 with 0 Axes>"
      ]
     },
     "metadata": {},
     "output_type": "display_data"
    }
   ],
   "source": [
    "plt.savefig('Churn by Gender.png')"
   ]
  },
  {
   "cell_type": "markdown",
   "id": "296c2932-21d2-4756-ae76-a4f9b70ba5cc",
   "metadata": {},
   "source": [
    "## Churn By Geography"
   ]
  },
  {
   "cell_type": "code",
   "execution_count": 24,
   "id": "a99a9c61-dc9e-40b6-a77a-ee744bba7e15",
   "metadata": {},
   "outputs": [
    {
     "data": {
      "image/png": "[encoded data removed]",
      "text/plain": [
       "<Figure size 640x480 with 1 Axes>"
      ]
     },
     "metadata": {},
     "output_type": "display_data"
    }
   ],
   "source": [
    "sns.countplot(x='Geography', hue='Exited', data=merged_df)\n",
    "plt.title('Churn by Geography')\n",
    "plt.show()"
   ]
  },
  {
   "cell_type": "code",
   "execution_count": 28,
   "id": "c2feb372-a75d-4408-854b-5aa0b1b0577a",
   "metadata": {},
   "outputs": [
    {
     "data": {
      "text/plain": [
       "<Figure size 640x480 with 0 Axes>"
      ]
     },
     "metadata": {},
     "output_type": "display_data"
    }
   ],
   "source": [
    "plt.savefig('Churn by Geography.png')"
   ]
  },
  {
   "cell_type": "code",
   "execution_count": 25,
   "id": "9a600980-3258-41cb-880d-83c8919608f1",
   "metadata": {},
   "outputs": [
    {
     "data": {
      "image/png": "[encoded data removed]",
      "text/plain": [
       "<Figure size 1000x600 with 2 Axes>"
      ]
     },
     "metadata": {},
     "output_type": "display_data"
    }
   ],
   "source": [
    "plt.figure(figsize=(10,6))\n",
    "sns.heatmap(merged_df.corr(numeric_only=True), annot=True, cmap='coolwarm')\n",
    "plt.title('Correlation Matrix')\n",
    "plt.show()"
   ]
  },
  {
   "cell_type": "code",
   "execution_count": 30,
   "id": "e2731e94-0b5d-4a45-b91a-be1f80f16539",
   "metadata": {},
   "outputs": [
    {
     "data": {
      "text/plain": [
       "<Figure size 640x480 with 0 Axes>"
      ]
     },
     "metadata": {},
     "output_type": "display_data"
    }
   ],
   "source": [
    "plt.savefig('Correlation Matrix.png')"
   ]
  },
  {
   "cell_type": "markdown",
   "id": "0f935826-b9ec-4be7-bc46-447bb3030bbf",
   "metadata": {},
   "source": [
    "## Key Insights\n",
    "\n",
    "### Key Insights:\n",
    "- The overall churn rate is approximately XX%.\n",
    "- Customers in [Geography] and aged [30–45] are more likely to churn.\n",
    "- Inactive members and those with more products tend to churn more.\n",
    "- Surprisingly, customers with higher balances and low credit scores also churn.\n",
    "\n",
    "These insights can help the bank better target at-risk customers.\n"
   ]
  },
  {
   "cell_type": "markdown",
   "id": "47b733ff-a0cd-4329-a0a0-adf86ea93ff6",
   "metadata": {},
   "source": [
    "## Recommendations\n",
    "\n",
    "### Recommendations:\n",
    "- Create retention programs targeting high-risk demographics.\n",
    "- Reward active users to reduce inactivity churn.\n",
    "- Conduct product satisfaction surveys for multi-product users.\n",
    "- Educate customers on credit health to improve engagement.\n"
   ]
  },
  {
   "cell_type": "code",
   "execution_count": 32,
   "id": "9738f677-5ec4-4516-959a-23fcf41c763f",
   "metadata": {},
   "outputs": [],
   "source": [
    "merged_df.to_csv('Cleaned_Bank_customer_churn_data.csv', index=False)"
   ]
  },
  {
   "cell_type": "code",
   "execution_count": null,
   "id": "df9d0570-87ae-4451-a74d-5c7df5b5d954",
   "metadata": {},
   "outputs": [],
   "source": []
  }
 ],
 "metadata": {
  "kernelspec": {
   "display_name": "Python 3 (ipykernel)",
   "language": "python",
   "name": "python3"
  },
  "language_info": {
   "codemirror_mode": {
    "name": "ipython",
    "version": 3
   },
   "file_extension": ".py",
   "mimetype": "text/x-python",
   "name": "python",
   "nbconvert_exporter": "python",
   "pygments_lexer": "ipython3",
   "version": "3.12.7"
  }
 },
 "nbformat": 4,
 "nbformat_minor": 5
}
